{
 "cells": [
  {
   "cell_type": "code",
   "execution_count": null,
   "id": "1afc4376-3cf6-45af-8da5-69e2bc127f0c",
   "metadata": {},
   "outputs": [],
   "source": []
  }
 ],
 "metadata": {
  "kernelspec": {
   "display_name": "",
   "name": ""
  },
  "language_info": {
   "name": ""
  }
 },
 "nbformat": 4,
 "nbformat_minor": 5
}
